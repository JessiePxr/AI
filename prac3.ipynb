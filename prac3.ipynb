{
 "cells": [
  {
   "cell_type": "markdown",
   "metadata": {},
   "source": [
    "# Introduction to Artificial Intelligence for Non Computing"
   ]
  },
  {
   "cell_type": "markdown",
   "metadata": {},
   "source": [
    "## Practical 3 (weeks 5 - 6)"
   ]
  },
  {
   "cell_type": "markdown",
   "metadata": {},
   "source": [
    "The following links provide additional information about data analysis , machine learning and Numpy"
   ]
  },
  {
   "cell_type": "markdown",
   "metadata": {},
   "source": [
    "Python data analysis: https://www.imooc.com/learn/843\n",
    "machine learning: https://www.imooc.com/learn/717\n",
    "Numpy :https://www.imooc.com/learn/943"
   ]
  },
  {
   "cell_type": "markdown",
   "metadata": {},
   "source": [
    "#### Theory Questions"
   ]
  },
  {
   "cell_type": "markdown",
   "metadata": {},
   "source": [
    "1\\.Which of the following are true and which are false? Give brief explanations.\n",
    "- a. In a fully observable, turn-taking, zero-sum game between two perfectly rational players,it does not help the first player to know what strategy the second player is using—that is, what move the second player will make, given the first player's move.\n",
    "- b. In a partially observable, turn-taking, zero-sum game between two perfectly rational players, it does not help the first player to know what move the second player will make, given the first player's move.\n",
    "- c. A perfectly rational backgammon agent never loses.\n",
    "\n",
    "See textbook Chapter6 24.6"
   ]
  },
  {
   "cell_type": "markdown",
   "metadata": {},
   "source": [
    "a) True. The second player will play better than the first one because he has more information than the first one. \n",
    "b) False. In a partially observable game, knowing the second player's move gives additional information about the game state which would be available only to the second player.\n",
    "c) False. Backgammon is a game based on chance, so it's almost impossible that someone will never lose."
   ]
  },
  {
   "cell_type": "markdown",
   "metadata": {},
   "source": [
    "2\\.Define in your own words the terms constraint, backtracking search, arc consistency,backjumping, min-conflicts, and cycle cutset.\n",
    "\n",
    "See textbook Chapter6 6.16"
   ]
  },
  {
   "cell_type": "markdown",
   "metadata": {},
   "source": [
    "Constraint: A restriction on the possible values of two or more variables.\n",
    "Backtracking search: It is a kind of DFS, but in a way of generating the search tree. \n",
    "Arc Consistency: A directed arc from A to B in a CSP is arc consistent, if for every value in the current domain of A, there is some consistent value of B.\n",
    "Backjumping: Backjumping is a more efficient backtracking search because it jumps back more than one level when a dead end is reached during the search. \n",
    "Min-conflict: A heuristic for local search on CSP problems. It says that when given a variable to modify, choose the one thay conficts with the fewest other variables.\n",
    "Cycle cutset: It is a set of variables, when removed from the constrint graph make it acyclic."
   ]
  },
  {
   "cell_type": "markdown",
   "metadata": {},
   "source": [
    "3\\.Explain why it is a good heuristic to choose the variable that is most constrained but the value that is least constraining in a CSP search.\n",
    "\n",
    "See textbook Chapter6 6.9"
   ]
  },
  {
   "cell_type": "markdown",
   "metadata": {},
   "source": [
    "Because the variable which is the most constrained is also the one which would cause most failures, so it is more efficient to fail as early as possible. The least constraining value heuriatic is correct because it make it most possible to aviod conflict.  "
   ]
  },
  {
   "cell_type": "markdown",
   "metadata": {},
   "source": [
    "4\\.Consider the following procedure for choosing moves in games with chance nodes: \n",
    "- 1、Generate some dice-roll sequences (say, 50) down to a suitable depth (say, 8).\n",
    "- 2、With known dice rolls, the game tree becomes deterministic. For each dice-roll sequence,solve the resulting deterministic game tree using alpha-beta.\n",
    "- 3、Use the results to estimate the value of each move and to choose the best.Will this procedure work well? Why (or why not)?\n",
    "\n",
    "See textbook Chapter5 5.19"
   ]
  },
  {
   "cell_type": "markdown",
   "metadata": {},
   "source": [
    "The choices made by each player in the determinsitic tree are based on fully knowledge of the all the future dice rolls, but it cannot make it without such knowledge. "
   ]
  },
  {
   "cell_type": "markdown",
   "metadata": {},
   "source": [
    "5\\. Now,please consider this game:  there are three plates A, B and C, each plate has three bills. A puts 1, 20, 50; B puts 5, 10, 100; C puts 1, 5, 20. All units are \"Yuan\". There are two persons A and B, and two of them can check out three plates and banknotes .（ A is ourself, The other is B）\n",
    "The game is divided into three steps: \n",
    "- 1、A select a plate from three plate.\n",
    "- 2、B take out two banknotes from A selected plate,and give the  banknotes to A.  \n",
    "- 3、A take one of the two banknotes, and take it away.among,A want to get the max banknotes, B want to let A to get the min.\n",
    "\n",
    "Try to understand the minimax algorithm，you can click the link:https://blog.csdn.net/tangchenyi/article/details/22920031"
   ]
  },
  {
   "cell_type": "markdown",
   "metadata": {},
   "source": [
    "I have read the blog and understand the minimax algorithm but have no idea what to answer as there is no question in the title."
   ]
  },
  {
   "cell_type": "markdown",
   "metadata": {},
   "source": [
    "### Programming Excercises"
   ]
  },
  {
   "cell_type": "markdown",
   "metadata": {},
   "source": [
    "1\\. Guess number(Single number): please generate a randomly number  with the function (random), then ask someone to guess the number,I think we should give the corresponding hint, otherwise it will be very difficult to guess the number.the game will be over untill you get the right number."
   ]
  },
  {
   "cell_type": "code",
   "execution_count": null,
   "metadata": {},
   "outputs": [],
   "source": [
    "## write your answer here!\n",
    "import random\n",
    "\n",
    "a = random.randint(1,10)\n",
    "b = input(\"Enter your number:\")\n",
    "while (a != b):\n",
    "    if b<1 or b>9:\n",
    "        print(\"Please enter a single number: \"）\n",
    "        b = input()\n",
    "    else:\n",
    "        if b>a:\n",
    "            print(\"Please enter a smaller number:\")\n",
    "        else:\n",
    "            print(\"Please enter a larger number:\")\n",
    "        b = input()\n",
    "print(\"You have got the right answer!\")\n",
    "\n"
   ]
  },
  {
   "cell_type": "markdown",
   "metadata": {},
   "source": [
    "2\\.if you had understand the guess single number games,Congratulates,next is the guess three number games,Maybe you can do it well.But this is a different way of thinking. \n",
    "first : we need generate three numbers,there are most ten times chances give  you to guess the number,of course,we also give you some cue.\n",
    "\n",
    "- 'When I say:-->It means:\n",
    "- 'error--> The 3 numbers are not in the mystical numbers.'\n",
    "- 'Only the number is correct --> the number is right , but the position is not right.'\n",
    "- 'Absolutely right--> numbers is right and the position also right.'\n",
    "\n",
    "Maybe it's better for you to understand the rule well through see the picture.\n",
    "<div style=\"float:left;\" ><img src=\"img/p1.png\" width=\"400\" height=\"300\" >"
   ]
  },
  {
   "cell_type": "code",
   "execution_count": null,
   "metadata": {},
   "outputs": [
    {
     "name": "stdout",
     "output_type": "stream",
     "text": [
      "There are three numbers, please guess what it is.\n",
      "The clue I give is:\n",
      "When I say:-->It means:\n",
      "error--> The 3 numbers are not in the mystical numbers.\n",
      "Only the number is correct --> the number is right , but the position is not right.\n",
      "Absolutely right--> numbers is right and the position also right.\n",
      "This is the 1 time:\n"
     ]
    }
   ],
   "source": [
    "## write your answer here!\n",
    "import numpy as np\n",
    "\n",
    "print(\"There are three numbers, please guess what it is.\")\n",
    "print(\"The clue I give is:\")\n",
    "print(\"When I say:-->It means:\")\n",
    "print(\"error--> The 3 numbers are not in the mystical numbers.\")\n",
    "print(\"Only the number is correct --> the number is right , but the position is not right.\")\n",
    "print(\"Absolutely right--> numbers is right and the position also right.\")\n",
    "\n",
    "def isCorNumber(a,b):\n",
    "    for i in a:\n",
    "        if i not in b:\n",
    "            return False\n",
    "        else:\n",
    "            return True\n",
    "def isAbsRight(a,b):\n",
    "    for i in range(0,len(a)):\n",
    "        if a[i]!=b[i]:\n",
    "            return False\n",
    "        else:\n",
    "            return True\n",
    "\n",
    "\n",
    "np_lst = np.random.randint(1,10,3)\n",
    "np_a = np.array(np_lst)\n",
    "\n",
    "set1 = set(np_lst)\n",
    "\n",
    "i = 1\n",
    "while i < 11:\n",
    "    print(\"This is the \" + str(i) + \" time:\")\n",
    "    a = input()\n",
    "    b = input()\n",
    "    c = input()\n",
    "    s = [a, b, c]\n",
    "    set2 = set(s)\n",
    "    np_s = np.array(s)\n",
    "    i = i+1\n",
    "    if isAbsRight(np_lst,np_s):\n",
    "        print(\"Absolutely right\")\n",
    "        break\n",
    "    elif isCorNumber(np_lst,np_s):\n",
    "        print(\"Only the number is correct\")\n",
    "    else:\n",
    "        print(\"error\")\n",
    "\n"
   ]
  },
  {
   "cell_type": "markdown",
   "metadata": {},
   "source": [
    "3\\.please try using Python's Tkinter to make a visual interface（GUI）.if you don't know anything.Maybe you can refer to the below interface.and implement it by code.\n",
    "\n",
    "<div style=\"float:left;\" ><img src=\"img/p2.png\" width=\"200\" height=\"200\" >"
   ]
  },
  {
   "cell_type": "code",
   "execution_count": 2,
   "metadata": {},
   "outputs": [
    {
     "ename": "SyntaxError",
     "evalue": "invalid character in identifier (<ipython-input-2-5fc049093b25>, line 24)",
     "output_type": "error",
     "traceback": [
      "\u001b[0;36m  File \u001b[0;32m\"<ipython-input-2-5fc049093b25>\"\u001b[0;36m, line \u001b[0;32m24\u001b[0m\n\u001b[0;31m    root.mainloop（）\u001b[0m\n\u001b[0m                  ^\u001b[0m\n\u001b[0;31mSyntaxError\u001b[0m\u001b[0;31m:\u001b[0m invalid character in identifier\n"
     ]
    }
   ],
   "source": [
    "## write your answer here!\n",
    "from Tkinter import *\n",
    "\n",
    "root = Tk()\n",
    "\n",
    "\n",
    "root.title(\"tk\")\n",
    "root.geometry('100x200')\n",
    "root.resizable(width=False, height=True)\n",
    "\n",
    "language = [\"java\", \"SQL\", \"html\", \"php\", \"python\", \"C\"]\n",
    "framework = [\"Bootsrap\", \"iQuery\", \"CSS\"]\n",
    "lista = Listbox(root)\n",
    "listb = Listbox(root)\n",
    "\n",
    "for item in language:\n",
    "    lista.instert(0,item)\n",
    "\n",
    "for item in framework:\n",
    "    listb.instert(0, item)\n",
    "\n",
    "lista.pack()\n",
    "listb.pack()\n",
    "root.mainloop（）\n"
   ]
  },
  {
   "cell_type": "markdown",
   "metadata": {},
   "source": [
    "4\\.Through the initial trial of Tkinter,    please write a simple calculator.\n",
    "\n",
    "<div style=\"float:left;\" ><img src=\"img/p3.png\" width=\"180\" height=\"200\" center=\"left\"></div>\n",
    "<div style=\"float:left;\" ><img src=\"img/p4.png\" width=\"180\" height=\"200\" center=\"right\" ></div>"
   ]
  },
  {
   "cell_type": "code",
   "execution_count": null,
   "metadata": {},
   "outputs": [],
   "source": [
    "## write your answer here!\n",
    "import tkinter\n",
    "\n",
    "root = tkinter.Tk()\n",
    "root.title(\"Simple Calculator\")\n",
    "root.geometry('280x500')\n",
    "root.resizable(0,0)\n",
    "\n",
    "# Display panel\n",
    "result1 = tkinter.StringVar()\n",
    "result1.set(0)\n",
    "result2 = tkinter.StringVar()\n",
    "result2.set('')\n",
    "\n",
    "\n",
    "\n",
    "#Result Panel\n",
    "label1 = tkinter.Label(root,anchor = 'se', font = ('Arial',20),\n",
    "                       bg = '#BDE9EF',fg = '#828282',textvariable = result2)\n",
    "label1.place(width = 280,height = 170)\n",
    "label2 = tkinter.Label(root, anchor = 'se', font = ('Arial',20),\n",
    "                       bg = '#EEE9E9',fg = '#828282',textvariable = result1)\n",
    "label2.place(y = 170, width = 280,height = 60)\n",
    "\n",
    "# Number Button\n",
    "btn7 = tkinter.Button(root, anchor = 'center', text='7',\n",
    "                      font = (\"Arial\",20),fg = ('grey'), bd = 0.5,relief = 'ridge', command = lambda: pressNum('7'))\n",
    "btn7.place(x = 0,y = 285,width = 70,height = 55)\n",
    "btn8 = tkinter.Button(root, anchor = 'center', text='8',\n",
    "                      font = (\"Arial\",20),fg = ('grey'), bd = 0.5,relief = 'ridge', command = lambda: pressNum('8'))\n",
    "btn8.place(x = 70,y = 285,width = 70,height = 55)\n",
    "btn9 = tkinter.Button(root, anchor = 'center', text='9',\n",
    "                      font = (\"Arial\",20),fg = ('grey'), bd = 0.5,relief = 'ridge', command = lambda: pressNum('9'))\n",
    "btn9.place(x = 140,y = 285,width = 70,height = 55)\n",
    "\n",
    "btn4 = tkinter.Button(root, anchor = 'center', text='4',\n",
    "                      font = (\"Arial\",20),fg = ('grey'), bd = 0.5,relief = 'ridge', command = lambda: pressNum('4'))\n",
    "btn4.place(x = 0,y = 340,width = 70,height = 55)\n",
    "btn5 = tkinter.Button(root, anchor = 'center', text='5',\n",
    "                      font = (\"Arial\",20),fg = ('grey'), bd = 0.5,relief = 'ridge', command = lambda: pressNum('5'))\n",
    "btn5.place(x = 70,y = 340,width = 70,height = 55)\n",
    "btn6 = tkinter.Button(root, anchor = 'center', text='6',\n",
    "                      font = (\"Arial\",20),fg = ('grey'), bd = 0.5,relief = 'ridge', command = lambda: pressNum('6'))\n",
    "btn6.place(x = 140,y = 340,width = 70,height = 55)\n",
    "\n",
    "btn1 = tkinter.Button(root, anchor = 'center', text='1',\n",
    "                      font = (\"Arial\",20),fg = ('grey'), bd = 0.5,relief = 'ridge', command = lambda: pressNum('1'))\n",
    "btn1.place(x = 0,y = 395,width = 70,height = 55)\n",
    "btn2 = tkinter.Button(root, anchor = 'center', text='2',\n",
    "                      font = (\"Arial\",20),fg = ('grey'), bd = 0.5,relief = 'ridge', command = lambda: pressNum('2'))\n",
    "btn2.place(x = 70,y = 395,width = 70,height = 55)\n",
    "btn3 = tkinter.Button(root, anchor = 'center', text='3',\n",
    "                      font = (\"Arial\",20),fg = ('grey'), bd = 0.5,relief = 'ridge', command = lambda: pressNum('3'))\n",
    "btn3.place(x = 140,y = 395,width = 70,height = 55)\n",
    "btn0 = tkinter.Button(root, anchor = 'center', text='0',\n",
    "                      font = (\"Arial\",20),fg = ('grey'), bd = 0.5,relief = 'ridge', command = lambda: pressNum('0'))\n",
    "btn0.place(x = 70,y = 450,width = 70,height = 55)\n",
    "\n",
    "#operative symbol\n",
    "btnac = tkinter.Button(root, text = 'AC', bd = 0.5, font = ('Arial', 20), fg = '#D36D41', command = lambda: pressCompute('AC'))\n",
    "btnac.place(x = 0, y = 230, width = 70, height = 55)\n",
    "btndivi = tkinter.Button(root, text = '÷', font = ('Arial', 20), fg = '#4F4F4F', command = lambda: pressCompute('/'))\n",
    "btndivi.place(x = 70, y = 230, width = 70, height = 55)\n",
    "btnmult = tkinter.Button(root, text = '×', font = ('Arial', 20), fg = '#4F4F4F', command = lambda: pressCompute('*'))\n",
    "btnmult.place(x = 140, y = 230, width = 70, height = 55)\n",
    "btnback = tkinter.Button(root, text = '<-', font = ('Arial',20), fg = '#4F4F4F', command = lambda: pressCompute('B'))\n",
    "btnback.place(x = 210, y = 230, width = 70, height = 55)\n",
    "btnminus = tkinter.Button(root, text = '-', font = ('Arial',20), fg = '#4F4F4F', command = lambda: pressCompute('-'))\n",
    "btnminus.place(x = 210, y = 285, width = 70, height = 55)\n",
    "btnplus = tkinter.Button(root, text = '+', font = ('Arial',20), fg = '#4F4F4F', command = lambda: pressCompute('+'))\n",
    "btnplus.place(x = 210, y = 340, width = 70, height = 55)\n",
    "btnequal = tkinter.Button(root, text = '=', bd =0.5, bg = ('#F08656'), font = ('Arial',20), fg = '#4F4F4F', command = lambda: pressEqual())\n",
    "btnequal.place(x = 210, y = 395, width = 70, height = 110)\n",
    "btnpoint = tkinter.Button(root, text = '.', font = ('Arial',20), fg = '#4F4F4F', command = lambda: pressCompute('.'))\n",
    "btnpoint.place(x = 140, y = 450, width = 70, height = 55)\n",
    "\n",
    "#operation function\n",
    "lists = []\n",
    "isPressSign = False\n",
    "isPressNum = False\n",
    "\n",
    "def pressNum(num):\n",
    "    global lists\n",
    "    global isPressSign\n",
    "    if isPressSign == False:     #将运算符号状态设置为否\n",
    "        pass\n",
    "    else:\n",
    "        result1.set(0)\n",
    "        isPressSign = False\n",
    "\n",
    "    preNum = result1.get()\n",
    "    if preNum == '0':\n",
    "        result1.set(num)\n",
    "    else:\n",
    "        newNum = preNum + num\n",
    "        result1.set(newNum)\n",
    "\n",
    "\n",
    "\n",
    "def pressCompute(sign):\n",
    "    global lists\n",
    "    global isPressSign\n",
    "\n",
    "    num = result1.get()\n",
    "    lists.append(num)\n",
    "    lists.append(sign)\n",
    "    isPressSign = True\n",
    "\n",
    "    if sign == 'AC':\n",
    "        lists.clear()\n",
    "        result1.set(0)\n",
    "    if sign == 'B':\n",
    "        a = num[0:-1]\n",
    "        lists.clear()\n",
    "        result1.set(a)\n",
    "\n",
    "\n",
    "def pressEqual():\n",
    "\n",
    "    global lists\n",
    "    global isPressSign\n",
    "\n",
    "    curNum = result1.get()\n",
    "    lists.append(curNum)\n",
    "    comStr = ''.join(lists)\n",
    "    result1.set(eval(comStr))\n",
    "    result2.set(comStr)\n",
    "\n",
    "    lists.clear()\n",
    "\n",
    "root.mainloop()"
   ]
  },
  {
   "cell_type": "markdown",
   "metadata": {},
   "source": [
    "5\\.Ball game:Python's pinball game, which can realize the game function of the keyboard control bottom baffle moving collision ball similar to table tennis game. \n",
    "\n",
    "<div style=\"float:left;\" ><img src=\"img/p5.png\" width=\"200\" height=\"200\" center=\"left\"></div>\n",
    "<div style=\"float:left;\" ><img src=\"img/p6.png\" width=\"200\" height=\"200\" center=\"right\" ></div>\n"
   ]
  },
  {
   "cell_type": "markdown",
   "metadata": {},
   "source": [
    "this is a step:how to install the matplotlib,you can reference this link:https://blog.csdn.net/not_give_up_/article/details/79058272\n",
    "1. Ball Class\n",
    "    draw is responsible for moving Ball\n",
    "    Collision detection, bounce, Ball detection of Paddle \n",
    "2. Paddle Class\n",
    "    draw is responsible for moving Paddle\n",
    "    Collision detection to determine whether or not to continue ,Monitor keyboard events\n",
    "3. main cycle\n",
    "    Drawing the Ball and Paddle"
   ]
  },
  {
   "cell_type": "code",
   "execution_count": null,
   "metadata": {},
   "outputs": [],
   "source": [
    "\n",
    " from tkinter import *\n",
    "\n",
    "import matplotlib\n",
    "import time\n",
    "\n",
    "matplotlib.use('Agg')\n",
    "import random\n",
    "\n",
    "class Ball:\n",
    "  def __init__(self, canvas, paddle, color):\n",
    "    self.canvas = canvas\n",
    "    self.paddle = paddle\n",
    "    self.id = canvas.create_oval(10, 10, 25, 25, fill=color)\n",
    "    self.canvas.move(self.id, 245, 100)\n",
    "    startx = [-3, -2, -1, 1, 2, 3]\n",
    "    random.shuffle(startx)\n",
    "    self.x = startx[0]\n",
    "    self.y = -3\n",
    "    self.canvas_height = self.canvas.winfo_height()\n",
    "    self.canvas_width = self.canvas.winfo_width()\n",
    "    self.hit_bottom = False\n",
    "  def draw(self):\n",
    "    self.canvas.move(self.id, self.x, self.y)\n",
    "    pos = self.canvas.coords(self.id)#top-left bottom-right\n",
    "    if (pos[1] <= 0 or self.hit_paddle(pos) == True):\n",
    "      self.y = -self.y\n",
    "    if (pos[0] <= 0 or pos[2] >= self.canvas_width):\n",
    "      self.x = -self.x\n",
    "    if (pos[3] >= self.canvas_height):\n",
    "      self.hit_bottom = True\n",
    "  def hit_paddle(self, pos):\n",
    "    paddle_pos = self.canvas.coords(self.paddle.id)\n",
    "    if (pos[2] >= paddle_pos[0] and pos[0] <= paddle_pos[2]):\n",
    "      if (pos[3] >= paddle_pos[1] and pos[3] <= paddle_pos[3]):\n",
    "        return True\n",
    "    return False\n",
    "class Paddle:\n",
    "  def __init__(self, canvas, color):\n",
    "    self.canvas = canvas\n",
    "    self.id = canvas.create_rectangle(0, 0, 100, 10, fill = color)\n",
    "    self.x = 0\n",
    "    self.canvas.move(self.id, 200, 300)\n",
    "    self.canvas_width = self.canvas.winfo_width()\n",
    "    self.canvas.bind_all(\"<Key-Left>\", self.turn_left)\n",
    "    self.canvas.bind_all(\"<Key-Right>\", self.turn_right)\n",
    "  def draw(self):\n",
    "    pos = self.canvas.coords(self.id)\n",
    "    if (pos[0] + self.x >= 0 and pos[2] + self.x <= self.canvas_width):\n",
    "      self.canvas.move(self.id, self.x, 0)\n",
    "    #self.x = 0\n",
    "  def turn_left(self, event):\n",
    "    self.x = -4\n",
    "  def turn_right(self, event):\n",
    "    self.x = 4\n",
    "tk = Tk()\n",
    "tk.title(\"Game\")\n",
    "tk.resizable(0, 0)#not resizable\n",
    "tk.wm_attributes(\"-topmost\", 1)#at top\n",
    "canvas = Canvas(tk, width = 500, height = 500, bd = 0, highlightthickness = 0)\n",
    "canvas.pack()\n",
    "tk.update()#init\n",
    "paddle = Paddle(canvas, 'blue')\n",
    "ball = Ball(canvas, paddle, 'red')\n",
    "while 1:\n",
    "    ball.draw()\n",
    "    paddle.draw()\n",
    "    tk.update_idletasks()\n",
    "    tk.update()\n",
    "    time.sleep(0.01)\n",
    "\n",
    "\n",
    "\n",
    "\n",
    "\n",
    "\n",
    "\n"
   ]
  },
  {
   "cell_type": "code",
   "execution_count": null,
   "metadata": {},
   "outputs": [],
   "source": []
  }
 ],
 "metadata": {
  "kernelspec": {
   "display_name": "Python 3",
   "language": "python",
   "name": "python3"
  },
  "language_info": {
   "codemirror_mode": {
    "name": "ipython",
    "version": 3
   },
   "file_extension": ".py",
   "mimetype": "text/x-python",
   "name": "python",
   "nbconvert_exporter": "python",
   "pygments_lexer": "ipython3",
   "version": "3.6.5"
  }
 },
 "nbformat": 4,
 "nbformat_minor": 2
}
