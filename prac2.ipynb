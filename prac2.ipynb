{
 "cells": [
  {
   "cell_type": "markdown",
   "metadata": {},
   "source": [
    "# Introduction to Artificial Intelligence for Non Computing"
   ]
  },
  {
   "cell_type": "markdown",
   "metadata": {},
   "source": [
    "## Practical 2 (weeks 3 - 4)"
   ]
  },
  {
   "cell_type": "markdown",
   "metadata": {},
   "source": [
    "## Search Techniques"
   ]
  },
  {
   "cell_type": "markdown",
   "metadata": {},
   "source": [
    "The following links provide additional information about depth first search and breath first search"
   ]
  },
  {
   "cell_type": "markdown",
   "metadata": {},
   "source": [
    "- Depth first search:   link：https://pan.baidu.com/s/1bkLHKKbSBNpfFuKwDyURqw  password：oy76\n",
    "- Breath first search:  link：https://pan.baidu.com/s/176g5q0W3rGbSAM5tZMraeg   password：7mdh"
   ]
  },
  {
   "cell_type": "markdown",
   "metadata": {},
   "source": [
    "#### Theory Questions "
   ]
  },
  {
   "cell_type": "markdown",
   "metadata": {},
   "source": [
    "1\\. What is an algorithm? A sequence of steps such as a recipe or a movie script.\n",
    "\n",
    "As a movie viewer, please write an algorithm for a process to \"see a movie\". Include details of the following for example (add additional information yourself):\n",
    "\t- The start conditions \n",
    "\t-- I want to watch a movie\n",
    "\t- Roles (people/actors involved) \n",
    "    --watcher, ticket seller etc \n",
    "    -Equipment required (\"props\")\n",
    "    --seats, ticket etc\n",
    "    - The scenes \n",
    "    -- scene 1 - buy ticket \n",
    "    -- ??? what happens next\n",
    "    -- scene 3, scene 3 ...\n",
    "    - Results/outcomes\n",
    "    -- ?\n"
   ]
  },
  {
   "cell_type": "markdown",
   "metadata": {},
   "source": [
    "_your answer here..._ \n",
    "\n",
    "***\n",
    "Conditions: \n",
    "(1) There is a movie which I'm interested in on show.\n",
    "(2) I have got spare time to watch it.\n",
    "(3) I have enough money to pay for the ticket.\n",
    "Roles:\n",
    "Me, ticket seller, teller, doorman, etc.\n",
    "Equipment:\n",
    "Movie ticket, projector, screen, screen hall, chair, 3D glasses.\n",
    "The Scenes:\n",
    "(1) Buy the ticket:\n",
    "I walk to the ticket office, tell the ticket teller the movie and seat I choose, give him/her the money.\n",
    "The ticket seller took my money and gave me the ticket.\n",
    "I got the ticket from him/her.\n",
    "(2) Go to watch the movie\n",
    "Wait until the time of the movie.\n",
    "I walk to the screen hall, show doorman my ticket.\n",
    "The doorman allows my entrance.\n",
    "I walk into the screen hall, find my seat, sit down and start to watch the movie.\n",
    "(3) After the movie finishes\n",
    "I leave the screen hall.\n",
    "Result:\n",
    "I enjoy the movie."
   ]
  },
  {
   "cell_type": "markdown",
   "metadata": {},
   "source": [
    "2\\. A farmer with his wolf, duck and bag of corn come to the east side of a river they wish to cross. There is a boat at the rivers edge, but of course only the farmer can row. The boat can only hold two things (including the rower) at any one time. If the wolf is ever left alone with the duck, the wolf will eat it. Similarly if the duck is ever left alone with the corn, the duck will eat it. How can the farmer get across the river so that all four arrive safely on the other side? "
   ]
  },
  {
   "cell_type": "markdown",
   "metadata": {},
   "source": [
    "_your answer here..._ \n",
    "\n",
    "***\n",
    "(1) Farmer takes duck to west side.\n",
    "(2) Farmer returns alone to the east side. \n",
    "(3) Farmer takes corn to the west side.\n",
    "(4) Farmer returns with the duck.\n",
    "(5) Farmer takers wolf to the west side.\n",
    "(6) Farmer returns alone to the east side. \n",
    "(7) Farmer takes duck to the west side."
   ]
  },
  {
   "cell_type": "markdown",
   "metadata": {},
   "source": [
    " "
   ]
  },
  {
   "cell_type": "markdown",
   "metadata": {},
   "source": [
    "3\\.Explain why we determine our problem goals before we write the problem formulation (including the model and deciding what algorithm or techniques to use - for example search, or other method).\n",
    "\n",
    "See Chapter3.1 (Russel & Norvig)"
   ]
  },
  {
   "cell_type": "markdown",
   "metadata": {},
   "source": [
    "_your answer here..._ \n",
    "\n",
    "Goal formulation, based on the current situation and the agent’s performance measure, is the first step in problem solving. We decide which aspects of the world we are interested in, and which can be ignored or abstracted away. Then in problem formulation we decide how to manipulate the important aspects."
   ]
  },
  {
   "cell_type": "markdown",
   "metadata": {},
   "source": [
    "4\\. This question requires you to perform BFS and DFS on paper.\n",
    "\n",
    "<img src=\"img/p1.png\" width=\"180\" height=\"180\" >\n",
    "\n",
    "1. Simulate (on pencil-and-paper) breadth-first search starting from node A when the goal node is K.\n",
    "2. Simulate (on pencil-and-paper) depth first search starting from node A when the goal node is I.\n"
   ]
  },
  {
   "cell_type": "markdown",
   "metadata": {},
   "source": [
    "1. _your answer here..._ \n",
    "2. _your answer here..._ \n",
    "\n",
    "1. ABCDEFGHIK  K=goal \n",
    "2. ABCEFDGHI I=goal"
   ]
  },
  {
   "cell_type": "markdown",
   "metadata": {},
   "source": [
    "5\\.Consider a state space where the start state is number 1 and each state  k has two successors: numbers 2k and 2k + 1.\n",
    "- a. Draw the portion of the state space for states 1 to 15.\n",
    "- b. Suppose the goal state is 11. List the order in which nodes will be visited for breadthfirst\n",
    "search, depth-limited search with limit 3, and iterative deepening search.\n",
    "- c. How well would bidirectional search work on this problem? What is the branching\n",
    "factor in each direction of the bidirectional search?\n",
    "- d. Does the answer to (c) suggest a reformulation of the problem that would allow you to\n",
    "solve the problem of getting from state 1 to a given goal state with almost no search?\n",
    "- e. Call the action going from k to 2k Left, and the action going to 2k + 1 Right. Can you\n",
    "find an algorithm that outputs the solution to this problem without any search at all?\n",
    "\n",
    "See textbook Chapter3.15"
   ]
  },
  {
   "cell_type": "markdown",
   "metadata": {},
   "source": [
    "_your answer here..._ \n",
    "a. "
   ]
  },
  {
   "cell_type": "markdown",
   "metadata": {},
   "source": [
    "### Programming Excercises"
   ]
  },
  {
   "cell_type": "markdown",
   "metadata": {},
   "source": [
    "1\\.Write a program to solve a classic ancient Chinese puzzle:  \n",
    " We count 35 heads and 94 legs among the chickens and rabbits in a farm. How many rabbits and how many chickens do we have? "
   ]
  },
  {
   "cell_type": "code",
   "execution_count": 7,
   "metadata": {},
   "outputs": [
    {
     "name": "stdout",
     "output_type": "stream",
     "text": [
      "12 23\n"
     ]
    }
   ],
   "source": [
    "##Hint:Use for loop to iterate all possible\n",
    "## write your answer here!\n",
    "for x in range (1,35):\n",
    "    y = 35-x\n",
    "    if 4*x+2*y == 94:\n",
    "        print(x,y)\n",
    "\n"
   ]
  },
  {
   "cell_type": "markdown",
   "metadata": {},
   "source": [
    "2\\. _Social networking_ Please look at the graph below of social relationships. You have a mango farm, you need to find a mango buyer and sell him your mango that you have grown (just a small farm). To this end, our principle is to use our social network of friends separated by one degree, and then second degree friends (friends of friends), third degree friends (friends of friends of friends).\n",
    "\n",
    "Use the depth first algorithm to search your network until you find a mango seller. \n",
    "\n",
    "We make an assumption that if the person's name ends with m, then it means the person must be the mango seller!\n",
    "\n",
    "\n",
    "<img src=\"img/p3.png\" width=\"500\" height=\"400\" >"
   ]
  },
  {
   "cell_type": "code",
   "execution_count": 13,
   "metadata": {},
   "outputs": [],
   "source": [
    "## write your answer here!\n",
    "\n",
    "Node = ['you','bob','anuj','peggy','alice','claire','thom','jonny']\n",
    "N = [ [0,1,0,0,1,1,0,0],[0,0,1,1,0,0,0,0],[0,0,0,0,0,0,0,0],[0,0,0,0,0,0,0,0],\n",
    "     [0,0,0,1,0,0,0,0,],[0,0,0,0,0,0,1,1],[0,0,0,0,0,0,0,0],[0,0,0,0,0,0,0,0] ]\n",
    "stack1 = []\n",
    "stack1.append(3)\n",
    "stack2 = []\n",
    "\n",
    "def dfs_m(stack):\n",
    "    while len(stack) > 0:\n",
    "        a = stack.pop(len(stack)-1)\n",
    "        if (node[a][len(node[a])-1] == \"m\"):\n",
    "            return Node[a]\n",
    "        counter = 0\n",
    "        for i in N[a]:\n",
    "            if (i == 1):\n",
    "                stack.append(count)\n",
    "                stack2.append(dfs_m(stack))\n",
    "                b = stack2.pop()\n",
    "                if(b[len(b)-1] == \"m\"):\n",
    "                    return b\n",
    "            counter += 1\n",
    "        return no\n",
    "    print(dfs_m(stack1))\n",
    "\n"
   ]
  },
  {
   "cell_type": "markdown",
   "metadata": {},
   "source": [
    "3\\. Depth First traverse：Use depth first traversal to traverse all the DLL files on the C disk and output the file names.\n",
    "\n",
    "Update your code to search for a particular filename.\n",
    "\n",
    "What protocol did you use to select the next node to expand on the fringe?"
   ]
  },
  {
   "cell_type": "code",
   "execution_count": 14,
   "metadata": {},
   "outputs": [
    {
     "name": "stdout",
     "output_type": "stream",
     "text": [
      "\n",
      "\n",
      "\n",
      "\n"
     ]
    }
   ],
   "source": [
    "## write your answer here!\n",
    "import os\n",
    " \n",
    "def dfs_myDir(path, printDir = None, printFile = None):\n",
    "    stack = []\n",
    "    ret = []\n",
    "    stack.append(path)\n",
    "    while len(stack) > 0:\n",
    "        tmp = stack.pop(len(stack) - 1)\n",
    "        if(os.path.isdir(tmp)):\n",
    "            ret.append(tmp)\n",
    "            for item in os.listdir(tmp):\n",
    "                stack.append(os.path.join(tmp, item))\n",
    "            if printDir:\n",
    "                printDir(tmp)\n",
    "        elif(os.path.isfile(tmp)):\n",
    "            ret.append(tmp)\n",
    "            if printFile:\n",
    "                printFile(tmp)\n",
    "    return ret\n",
    " \n",
    "def printDir(path):\n",
    "    print (\"dir: \" + path)\n",
    " \n",
    "def printFile(path):\n",
    "    print (\"file: \" + path)\n",
    " \n",
    "d = dfs_myDir(r'/Users/pxr/Desktop/eBooks', printDir, printFile)\n",
    "\n",
    "print(\"\")\n",
    "print(\"\")\n",
    "print(\"\")\n",
    "print(\"\")\n",
    "\n",
    "def dfs_myDir2(path, printDir = None, printFile = None):\n",
    "    stack = []\n",
    "    ret = []\n",
    "    stack.append(path)\n",
    "    while len(stack) > 0:\n",
    "        tmp = stack.pop(len(stack) - 1)\n",
    "        if(os.path.isdir(tmp)):\n",
    "            ret.append(tmp)\n",
    "            for item in os.listdir(tmp):\n",
    "                stack.append(os.path.join(tmp, item))\n",
    "            if printDir:\n",
    "                printDir(tmp)\n",
    "        elif(os.path.isfile(tmp)):\n",
    "            ret.append(tmp)\n",
    "            if printFile:\n",
    "                printFile(tmp)\n",
    "            if (tmp==\"/Users/zyp/Desktop/eBooks/finance book/投资学博迪中文版.pdf\"):\n",
    "                return ret\n",
    "    return ret\n",
    "\n",
    "d = dfs_myDir2(r'/Users/zyp/Desktop/eBooks', printDir, printFile)"
   ]
  },
  {
   "cell_type": "markdown",
   "metadata": {},
   "source": [
    "4\\.\n",
    "Breadth First traverse：Use breadth traversal to traverse all the DLL files on the C disk and output the filename.\n",
    "\n",
    "Update your code to search for a particular filename."
   ]
  },
  {
   "cell_type": "code",
   "execution_count": null,
   "metadata": {},
   "outputs": [],
   "source": [
    "## write your answer here!"
   ]
  },
  {
   "cell_type": "markdown",
   "metadata": {},
   "source": [
    "5\\. Uniform cost search"
   ]
  },
  {
   "cell_type": "markdown",
   "metadata": {},
   "source": [
    "Consider a state space where the start state is 2 and each state k has three successors: numbers 2k, 2k+1, 2k+2. The cost from state k to each respective child is k, ground(k/2), k+2.\n",
    "\n",
    "can you implement a uniform-cost-search algorithm with python. The goal state is number 85.\n",
    "\n",
    "//2k,2k+1,2k+2   85,86,87\n",
    "//用最小的cost找到85"
   ]
  },
  {
   "cell_type": "markdown",
   "metadata": {},
   "source": [
    "6\\.a* question"
   ]
  },
  {
   "cell_type": "markdown",
   "metadata": {},
   "source": [
    "A cute cat stays in the A position, he is hungry. But the food is placed in the B position. Can you help him to find the food? \n",
    "Hint:  The problem isn't easy. It's essential for you to understand the A* algorithm before you solve this problem. Then, you can use some thought of Node in java, when you are in code.\n",
    "\n",
    "<img src=\"img/p4.png\" width=\"500\" height=\"400\" >\n"
   ]
  },
  {
   "cell_type": "code",
   "execution_count": null,
   "metadata": {},
   "outputs": [],
   "source": [
    "## write your answer here!"
   ]
  }
 ],
 "metadata": {
  "kernelspec": {
   "display_name": "Python 3",
   "language": "python",
   "name": "python3"
  },
  "language_info": {
   "codemirror_mode": {
    "name": "ipython",
    "version": 3
   },
   "file_extension": ".py",
   "mimetype": "text/x-python",
   "name": "python",
   "nbconvert_exporter": "python",
   "pygments_lexer": "ipython3",
   "version": "3.6.5"
  }
 },
 "nbformat": 4,
 "nbformat_minor": 2
}
